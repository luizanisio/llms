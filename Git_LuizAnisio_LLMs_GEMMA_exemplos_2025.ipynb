{
  "nbformat": 4,
  "nbformat_minor": 0,
  "metadata": {
    "colab": {
      "provenance": [],
      "gpuType": "A100",
      "machine_shape": "hm"
    },
    "kernelspec": {
      "name": "python3",
      "display_name": "Python 3"
    },
    "language_info": {
      "name": "python"
    },
    "accelerator": "GPU",
    "widgets": {
      "application/vnd.jupyter.widget-state+json": {
        "16549cc3915341d690dcf3c8c92f7b1a": {
          "model_module": "@jupyter-widgets/controls",
          "model_name": "HBoxModel",
          "model_module_version": "1.5.0",
          "state": {
            "_dom_classes": [],
            "_model_module": "@jupyter-widgets/controls",
            "_model_module_version": "1.5.0",
            "_model_name": "HBoxModel",
            "_view_count": null,
            "_view_module": "@jupyter-widgets/controls",
            "_view_module_version": "1.5.0",
            "_view_name": "HBoxView",
            "box_style": "",
            "children": [
              "IPY_MODEL_d58c571541fd44cba10c006cc1dbec65",
              "IPY_MODEL_50a54951f9a34403bf6b5e5461f2410c",
              "IPY_MODEL_ab0ca26901ca44348fb429b0645a0400"
            ],
            "layout": "IPY_MODEL_7d271915d24f438cac8ccd955981b371"
          }
        },
        "d58c571541fd44cba10c006cc1dbec65": {
          "model_module": "@jupyter-widgets/controls",
          "model_name": "HTMLModel",
          "model_module_version": "1.5.0",
          "state": {
            "_dom_classes": [],
            "_model_module": "@jupyter-widgets/controls",
            "_model_module_version": "1.5.0",
            "_model_name": "HTMLModel",
            "_view_count": null,
            "_view_module": "@jupyter-widgets/controls",
            "_view_module_version": "1.5.0",
            "_view_name": "HTMLView",
            "description": "",
            "description_tooltip": null,
            "layout": "IPY_MODEL_caf87fdf20174ae4af7865de43d30672",
            "placeholder": "​",
            "style": "IPY_MODEL_01ae3df0eb304cf1bd5ba26b76939a0c",
            "value": "Loading checkpoint shards: 100%"
          }
        },
        "50a54951f9a34403bf6b5e5461f2410c": {
          "model_module": "@jupyter-widgets/controls",
          "model_name": "FloatProgressModel",
          "model_module_version": "1.5.0",
          "state": {
            "_dom_classes": [],
            "_model_module": "@jupyter-widgets/controls",
            "_model_module_version": "1.5.0",
            "_model_name": "FloatProgressModel",
            "_view_count": null,
            "_view_module": "@jupyter-widgets/controls",
            "_view_module_version": "1.5.0",
            "_view_name": "ProgressView",
            "bar_style": "success",
            "description": "",
            "description_tooltip": null,
            "layout": "IPY_MODEL_45f8d3fa7f3d4500bea9729e2b3f8dbe",
            "max": 2,
            "min": 0,
            "orientation": "horizontal",
            "style": "IPY_MODEL_988d716f0d324de0b53bbb08e9777d38",
            "value": 2
          }
        },
        "ab0ca26901ca44348fb429b0645a0400": {
          "model_module": "@jupyter-widgets/controls",
          "model_name": "HTMLModel",
          "model_module_version": "1.5.0",
          "state": {
            "_dom_classes": [],
            "_model_module": "@jupyter-widgets/controls",
            "_model_module_version": "1.5.0",
            "_model_name": "HTMLModel",
            "_view_count": null,
            "_view_module": "@jupyter-widgets/controls",
            "_view_module_version": "1.5.0",
            "_view_name": "HTMLView",
            "description": "",
            "description_tooltip": null,
            "layout": "IPY_MODEL_6ac74ae066d8462ca96e9a1062029efa",
            "placeholder": "​",
            "style": "IPY_MODEL_78b4c648efdf4ec7900a7f749760169c",
            "value": " 2/2 [00:02&lt;00:00,  1.44s/it]"
          }
        },
        "7d271915d24f438cac8ccd955981b371": {
          "model_module": "@jupyter-widgets/base",
          "model_name": "LayoutModel",
          "model_module_version": "1.2.0",
          "state": {
            "_model_module": "@jupyter-widgets/base",
            "_model_module_version": "1.2.0",
            "_model_name": "LayoutModel",
            "_view_count": null,
            "_view_module": "@jupyter-widgets/base",
            "_view_module_version": "1.2.0",
            "_view_name": "LayoutView",
            "align_content": null,
            "align_items": null,
            "align_self": null,
            "border": null,
            "bottom": null,
            "display": null,
            "flex": null,
            "flex_flow": null,
            "grid_area": null,
            "grid_auto_columns": null,
            "grid_auto_flow": null,
            "grid_auto_rows": null,
            "grid_column": null,
            "grid_gap": null,
            "grid_row": null,
            "grid_template_areas": null,
            "grid_template_columns": null,
            "grid_template_rows": null,
            "height": null,
            "justify_content": null,
            "justify_items": null,
            "left": null,
            "margin": null,
            "max_height": null,
            "max_width": null,
            "min_height": null,
            "min_width": null,
            "object_fit": null,
            "object_position": null,
            "order": null,
            "overflow": null,
            "overflow_x": null,
            "overflow_y": null,
            "padding": null,
            "right": null,
            "top": null,
            "visibility": null,
            "width": null
          }
        },
        "caf87fdf20174ae4af7865de43d30672": {
          "model_module": "@jupyter-widgets/base",
          "model_name": "LayoutModel",
          "model_module_version": "1.2.0",
          "state": {
            "_model_module": "@jupyter-widgets/base",
            "_model_module_version": "1.2.0",
            "_model_name": "LayoutModel",
            "_view_count": null,
            "_view_module": "@jupyter-widgets/base",
            "_view_module_version": "1.2.0",
            "_view_name": "LayoutView",
            "align_content": null,
            "align_items": null,
            "align_self": null,
            "border": null,
            "bottom": null,
            "display": null,
            "flex": null,
            "flex_flow": null,
            "grid_area": null,
            "grid_auto_columns": null,
            "grid_auto_flow": null,
            "grid_auto_rows": null,
            "grid_column": null,
            "grid_gap": null,
            "grid_row": null,
            "grid_template_areas": null,
            "grid_template_columns": null,
            "grid_template_rows": null,
            "height": null,
            "justify_content": null,
            "justify_items": null,
            "left": null,
            "margin": null,
            "max_height": null,
            "max_width": null,
            "min_height": null,
            "min_width": null,
            "object_fit": null,
            "object_position": null,
            "order": null,
            "overflow": null,
            "overflow_x": null,
            "overflow_y": null,
            "padding": null,
            "right": null,
            "top": null,
            "visibility": null,
            "width": null
          }
        },
        "01ae3df0eb304cf1bd5ba26b76939a0c": {
          "model_module": "@jupyter-widgets/controls",
          "model_name": "DescriptionStyleModel",
          "model_module_version": "1.5.0",
          "state": {
            "_model_module": "@jupyter-widgets/controls",
            "_model_module_version": "1.5.0",
            "_model_name": "DescriptionStyleModel",
            "_view_count": null,
            "_view_module": "@jupyter-widgets/base",
            "_view_module_version": "1.2.0",
            "_view_name": "StyleView",
            "description_width": ""
          }
        },
        "45f8d3fa7f3d4500bea9729e2b3f8dbe": {
          "model_module": "@jupyter-widgets/base",
          "model_name": "LayoutModel",
          "model_module_version": "1.2.0",
          "state": {
            "_model_module": "@jupyter-widgets/base",
            "_model_module_version": "1.2.0",
            "_model_name": "LayoutModel",
            "_view_count": null,
            "_view_module": "@jupyter-widgets/base",
            "_view_module_version": "1.2.0",
            "_view_name": "LayoutView",
            "align_content": null,
            "align_items": null,
            "align_self": null,
            "border": null,
            "bottom": null,
            "display": null,
            "flex": null,
            "flex_flow": null,
            "grid_area": null,
            "grid_auto_columns": null,
            "grid_auto_flow": null,
            "grid_auto_rows": null,
            "grid_column": null,
            "grid_gap": null,
            "grid_row": null,
            "grid_template_areas": null,
            "grid_template_columns": null,
            "grid_template_rows": null,
            "height": null,
            "justify_content": null,
            "justify_items": null,
            "left": null,
            "margin": null,
            "max_height": null,
            "max_width": null,
            "min_height": null,
            "min_width": null,
            "object_fit": null,
            "object_position": null,
            "order": null,
            "overflow": null,
            "overflow_x": null,
            "overflow_y": null,
            "padding": null,
            "right": null,
            "top": null,
            "visibility": null,
            "width": null
          }
        },
        "988d716f0d324de0b53bbb08e9777d38": {
          "model_module": "@jupyter-widgets/controls",
          "model_name": "ProgressStyleModel",
          "model_module_version": "1.5.0",
          "state": {
            "_model_module": "@jupyter-widgets/controls",
            "_model_module_version": "1.5.0",
            "_model_name": "ProgressStyleModel",
            "_view_count": null,
            "_view_module": "@jupyter-widgets/base",
            "_view_module_version": "1.2.0",
            "_view_name": "StyleView",
            "bar_color": null,
            "description_width": ""
          }
        },
        "6ac74ae066d8462ca96e9a1062029efa": {
          "model_module": "@jupyter-widgets/base",
          "model_name": "LayoutModel",
          "model_module_version": "1.2.0",
          "state": {
            "_model_module": "@jupyter-widgets/base",
            "_model_module_version": "1.2.0",
            "_model_name": "LayoutModel",
            "_view_count": null,
            "_view_module": "@jupyter-widgets/base",
            "_view_module_version": "1.2.0",
            "_view_name": "LayoutView",
            "align_content": null,
            "align_items": null,
            "align_self": null,
            "border": null,
            "bottom": null,
            "display": null,
            "flex": null,
            "flex_flow": null,
            "grid_area": null,
            "grid_auto_columns": null,
            "grid_auto_flow": null,
            "grid_auto_rows": null,
            "grid_column": null,
            "grid_gap": null,
            "grid_row": null,
            "grid_template_areas": null,
            "grid_template_columns": null,
            "grid_template_rows": null,
            "height": null,
            "justify_content": null,
            "justify_items": null,
            "left": null,
            "margin": null,
            "max_height": null,
            "max_width": null,
            "min_height": null,
            "min_width": null,
            "object_fit": null,
            "object_position": null,
            "order": null,
            "overflow": null,
            "overflow_x": null,
            "overflow_y": null,
            "padding": null,
            "right": null,
            "top": null,
            "visibility": null,
            "width": null
          }
        },
        "78b4c648efdf4ec7900a7f749760169c": {
          "model_module": "@jupyter-widgets/controls",
          "model_name": "DescriptionStyleModel",
          "model_module_version": "1.5.0",
          "state": {
            "_model_module": "@jupyter-widgets/controls",
            "_model_module_version": "1.5.0",
            "_model_name": "DescriptionStyleModel",
            "_view_count": null,
            "_view_module": "@jupyter-widgets/base",
            "_view_module_version": "1.2.0",
            "_view_name": "StyleView",
            "description_width": ""
          }
        }
      }
    }
  },
  "cells": [
    {
      "cell_type": "markdown",
      "source": [
        "# Configurando e testando prompts"
      ],
      "metadata": {
        "id": "6xUrsF_WCJzd"
      }
    },
    {
      "cell_type": "code",
      "execution_count": 1,
      "metadata": {
        "colab": {
          "base_uri": "https://localhost:8080/"
        },
        "id": "N9y1bWXvCAkO",
        "outputId": "3263e38a-3c21-42a3-8c3a-e53ccbb5e2ff"
      },
      "outputs": [
        {
          "output_type": "stream",
          "name": "stdout",
          "text": [
            "✅ Instalação já realizada nesse ambiente _o/\n",
            "[OK] Dependências de análise instaladas _o/\n",
            "✅ Instalação já realizada nesse ambiente _o/\n",
            "[OK] Dependências de treinamento instaladas _o/\n",
            "[OK] Util carregado de /content/src (cache)\n",
            "Util carregado corretamente em 2025-08-09 14:01:02!\n",
            "🦥 Unsloth: Will patch your computer to enable 2x faster free finetuning.\n",
            "🦥 Unsloth Zoo will now patch everything to make training faster!\n",
            "[OK] Prompt carregado de /content/src (cache)\n",
            "============================================\n",
            "Transformers: 4.53.3 2025.7.1\n",
            "Tourch: 2.7.0+cu126\n",
            "============================================\n",
            "[OK] UtilAgentes carregado de /content/src (cache)\n",
            "UtilAgentes carregado corretamente em 2025-08-09 14:01:22!\n"
          ]
        }
      ],
      "source": [
        "#@title Instalar dependências e carregar pacotes do git\n",
        "# carregando o get_git para importar utilitários do github\n",
        "import os\n",
        "if not os.path.isfile('./get_git.py'):\n",
        "   !curl https://raw.githubusercontent.com/luizanisio/llms/refs/heads/main/util/get_git.py -o ./get_git.py\n",
        "import get_git\n",
        "get_git.deps() # instala unsloth, Transformers, Rouge e Levenshtein se precisar\n",
        "Util = get_git.sync_git_util()\n",
        "Util.dados_python()\n",
        "Prompt = get_git.sync_git_prompt()\n",
        "UtilAgentes = get_git.sync_git_agentes()"
      ]
    },
    {
      "cell_type": "code",
      "source": [
        "#@title Lista os modelos disponíveis\n",
        "Prompt.listar_modelos()"
      ],
      "metadata": {
        "colab": {
          "base_uri": "https://localhost:8080/"
        },
        "id": "fXc5D6Lj2xWY",
        "outputId": "95376170-007a-429f-b2fb-a5d26ac361f4"
      },
      "execution_count": 2,
      "outputs": [
        {
          "output_type": "stream",
          "name": "stdout",
          "text": [
            "Modelos disponíveis:\n",
            "\n",
            "- MODELO_GEMMA3_1B: google/gemma-3-1b-it\n",
            "- MODELO_GEMMA3_4B: google/gemma-3-4b-it\n",
            "- MODELO_GEMMA3_12B: google/gemma-3-12b-it\n",
            "- MODELO_GEMMA3_27B: google/gemma-3-27b-it\n",
            "- MODELO_QWEN_7B: Qwen/Qwen2.5-7B-Instruct-1M\n",
            "- MODELO_JUREMA_7B: Jurema-br/Jurema-7B\n",
            "- MODELO_QWEN_14B: Qwen/Qwen2.5-14B-Instruct-1M\n",
            "\n",
            "* Utilize: Prompt.modelos.MODELO....\n"
          ]
        }
      ]
    },
    {
      "cell_type": "code",
      "source": [
        "#@title Escolhe e carrega o modelo\n",
        "p = Prompt(modelo=Prompt.modelos.MODELO_GEMMA3_4B, max_seq_length=4096)"
      ],
      "metadata": {
        "id": "MzABGstiCO_3"
      },
      "execution_count": null,
      "outputs": []
    },
    {
      "cell_type": "code",
      "source": [
        "#@title Pergunta ao modelo\n",
        "res = p.prompt('Complete os próximos dois números da sequência e explique de forma objetiva em uma frase: 1, 1, 2, 3, 5, 8 ...')\n",
        "print('RESPOSTA:', res)"
      ],
      "metadata": {
        "colab": {
          "base_uri": "https://localhost:8080/"
        },
        "id": "gTlkmLtRCRt1",
        "outputId": "90530185-aa01-4270-b833-15d21e963b93"
      },
      "execution_count": 4,
      "outputs": [
        {
          "output_type": "stream",
          "name": "stdout",
          "text": [
            "RESPOSTA: Os próximos dois números da sequência são 13 e 21.\n",
            "\n",
            "Em uma frase objetiva: Esta sequência representa a sequência de Fibonacci, onde cada número é a soma dos dois números anteriores.\n"
          ]
        }
      ]
    },
    {
      "cell_type": "code",
      "source": [
        "#@title Resposta em json do modelo\n",
        "import json\n",
        "pergunta = '''Retorne um json válido com a estrutrua {\"mensagem\": com a mensagem do usuário, \"itens\": com uma lista de itens quando ele enumerar algo }\n",
        "              Mensagem do usuário: Eu preciso comprar abacaxi, pera e 2L de leite.'''\n",
        "r = p.prompt_to_json(pergunta)\n",
        "print(json.dumps(r, indent=2, ensure_ascii=False))"
      ],
      "metadata": {
        "colab": {
          "base_uri": "https://localhost:8080/"
        },
        "id": "xoBosJFuCX6R",
        "outputId": "87543b16-1b64-4a81-9fba-f65212e1590c"
      },
      "execution_count": 5,
      "outputs": [
        {
          "output_type": "stream",
          "name": "stdout",
          "text": [
            "{\n",
            "  \"mensagem\": \"Eu preciso comprar abacaxi, pera e 2L de leite.\",\n",
            "  \"itens\": [\n",
            "    \"abacaxi\",\n",
            "    \"pera\",\n",
            "    \"2L de leite\"\n",
            "  ],\n",
            "  \"usage\": {\n",
            "    \"input_tokens\": 64,\n",
            "    \"output_tokens\": 60,\n",
            "    \"time\": 4.680930852890015\n",
            "  }\n",
            "}\n"
          ]
        }
      ]
    },
    {
      "cell_type": "markdown",
      "source": [
        "# Configurando agentes"
      ],
      "metadata": {
        "id": "2iZ0oUmVCcAC"
      }
    },
    {
      "cell_type": "code",
      "source": [
        "#@title Tarefa básica de exemplo\n",
        "from IPython.display import clear_output\n",
        "print('Carregando modelo ...')\n",
        "p = Prompt(modelo=Prompt.modelos.MODELO_GEMMA3_4B, max_seq_length=4096)\n",
        "clear_output()\n",
        "print(f'Modelo {p.modelo} carregado _o/')\n",
        "print('Preparando agentes ...')\n",
        "servicos = UtilAgentes.AgentesToolsBasicos.get_servicos_basicos()\n",
        "print('Definindo tarefa ...')\n",
        "\n",
        "tarefa = UtilAgentes.Tarefa(nome='Tarefa 001',\n",
        "                descricao='Descobrir que dia é hoje e encontrar informações sobre o que é Xibunfa e como podemos usar Xibunfa para limpar o chão.',\n",
        "                objetivo='Descrever o que é Xibunfa e explicar como Xibunfa pode ser usada na limpeza do chão.',\n",
        "                servicos_disponiveis=servicos,\n",
        "                call_llm = p.prompt_to_json)\n",
        "\n",
        "rt = UtilAgentes.ResolverTarefas([tarefa])\n",
        "print('Resolvendo tarefa ...\\n---------------------')\n",
        "rt.resolver()"
      ],
      "metadata": {
        "colab": {
          "base_uri": "https://localhost:8080/",
          "height": 205,
          "referenced_widgets": [
            "16549cc3915341d690dcf3c8c92f7b1a",
            "d58c571541fd44cba10c006cc1dbec65",
            "50a54951f9a34403bf6b5e5461f2410c",
            "ab0ca26901ca44348fb429b0645a0400",
            "7d271915d24f438cac8ccd955981b371",
            "caf87fdf20174ae4af7865de43d30672",
            "01ae3df0eb304cf1bd5ba26b76939a0c",
            "45f8d3fa7f3d4500bea9729e2b3f8dbe",
            "988d716f0d324de0b53bbb08e9777d38",
            "6ac74ae066d8462ca96e9a1062029efa",
            "78b4c648efdf4ec7900a7f749760169c"
          ]
        },
        "id": "Otu2jl6mCmPx",
        "outputId": "d0ffb5e0-91e6-42cb-fb9c-a50af57306ca"
      },
      "execution_count": 14,
      "outputs": [
        {
          "output_type": "stream",
          "name": "stdout",
          "text": [
            "Modelo Modelos.MODELO_GEMMA3_4B carregado _o/\n",
            "Preparando agentes ...\n",
            "Definindo tarefa ...\n",
            "Resolvendo tarefa ...\n",
            "---------------------\n",
            "14:12:20|RESOLVENDO TAREFA - : Tarefa 001 com 2 serviços disponíveis\n",
            "14:12:20|DESCOBERTA - : Descobrindo serviços para a tarefa Tarefa 001\n",
            "14:12:30|DESCOBERTA CONCLUÍDA - : Serviços descobertos para a tarefa Tarefa 001: 2\n",
            "14:12:30|SERVIÇO SUGERIDO - : DataHora - O usuário precisa saber que dia é hoje.\n",
            "14:12:30|SERVIÇO SUGERIDO - : Busca - O usuário precisa de informações sobre o que é Xibunfa e como usá-lo para limpar o chão.\n",
            "14:12:30|ACIONANDO SERVIÇOS - : DataHora,Busca\n",
            "14:12:30|PREPARANDO SERVIÇO - : DataHora: {}\n",
            "14:12:30|SERVIÇO ACIONADO - : DataHora: {}\n",
            "14:12:30|CONHECIMENTO - : Calendário com dia, mês e ano | pg. None | score 0\n",
            "14:12:30|PREPARANDO SERVIÇO - : Busca: {\"palavras\": [\"Xibunfa\", \"limpeza chão\"]}\n",
            "14:12:30|SERVIÇO ACIONADO - : Busca: {\"palavras\": [\"Xibunfa\", \"limpeza chão\"]}\n",
            "ACIONANDO AGENTE DE TAREFA: Padrão\n",
            "\u001b[92mAVALIANDO RESPOSTA LLM:\n",
            "{\n",
            "  \"solucao_tarefa\": \"Hoje é 09 de agosto de 2025. De acordo com a Base de Conhecimento, Xibunfa é um produto utilizado para limpar o chão. Não foram fornecidas instruções adicionais sobre como usá-lo.\",\n",
            "  \"contribuicao\": \"Identificado a data atual e forneci informações sobre Xibunfa.\",\n",
            "  \"concluida\": false,\n",
            "  \"usage\": {\n",
            "    \"input_tokens\": 591,\n",
            "    \"output_tokens\": 102,\n",
            "    \"time\": 7.9148640632629395\n",
            "  }\n",
            "}\u001b[0m\n",
            "14:12:38|CONTRIBUIÇÃO - : Agente Padrão: Identificado a data atual e forneci informações sobre Xibunfa.\n",
            "ACIONANDO AGENTE REVISOR: Revisor\n",
            "\u001b[92mAVALIANDO RESPOSTA LLM:\n",
            "{\n",
            "  \"solucao_tarefa\": \"Hoje é 09 de agosto de 2025. De acordo com a Base de Conhecimento, Xibunfa é um produto utilizado para limpar o chão. No entanto, não foram fornecidas instruções adicionais sobre como usá-lo.\",\n",
            "  \"contribuicao\": \"Forneci a data atual e informações sobre o que é Xibunfa com base na Base de Conhecimento.\",\n",
            "  \"concluida\": false,\n",
            "  \"usage\": {\n",
            "    \"input_tokens\": 667,\n",
            "    \"output_tokens\": 115,\n",
            "    \"time\": 8.953462839126587\n",
            "  }\n",
            "}\u001b[0m\n",
            "14:12:47|CONTRIBUIÇÃO - : Agente Revisor: Forneci a data atual e informações sobre o que é Xibunfa com base na Base de Conhecimento.\n",
            "14:12:47|TAREFA NÃO CONCLUÍDA - : Tarefa 001\n",
            "ACIONANDO AGENTE DE TAREFA: Padrão\n",
            "\u001b[92mAVALIANDO RESPOSTA LLM:\n",
            "{\n",
            "  \"solucao_tarefa\": \"Hoje é 09 de agosto de 2025. De acordo com a Base de Conhecimento, Xibunfa é um produto utilizado para limpar o chão. A Base de Conhecimento não fornece instruções adicionais sobre como usar Xibunfa para limpar o chão.\",\n",
            "  \"contribuicao\": \"Identificado o dia atual e forneci informações sobre Xibunfa com base na Base de Conhecimento.\",\n",
            "  \"concluida\": false,\n",
            "  \"usage\": {\n",
            "    \"input_tokens\": 646,\n",
            "    \"output_tokens\": 119,\n",
            "    \"time\": 9.2517728805542\n",
            "  }\n",
            "}\u001b[0m\n",
            "14:12:56|CONTRIBUIÇÃO - : Agente Padrão: Identificado o dia atual e forneci informações sobre Xibunfa com base na Base de Conhecimento.\n",
            "ACIONANDO AGENTE REVISOR: Revisor\n",
            "\u001b[92mAVALIANDO RESPOSTA LLM:\n",
            "{\n",
            "  \"solucao_tarefa\": \"Hoje é 09 de agosto de 2025. De acordo com a Base de Conhecimento, Xibunfa é um produto utilizado para limpar o chão. No entanto, a Base de Conhecimento não fornece instruções sobre como usar Xibunfa para limpar o chão.\",\n",
            "  \"contribuicao\": \"Foram apresentadas as informações disponíveis sobre Xibunfa e sua utilização na limpeza do chão, conforme a Base de Conhecimento.\",\n",
            "  \"concluida\": false,\n",
            "  \"usage\": {\n",
            "    \"input_tokens\": 676,\n",
            "    \"output_tokens\": 125,\n",
            "    \"time\": 9.67558479309082\n",
            "  }\n",
            "}\u001b[0m\n",
            "14:13:06|CONTRIBUIÇÃO - : Agente Revisor: Foram apresentadas as informações disponíveis sobre Xibunfa e sua utilização na limpeza do chão, conforme a Base de Conhecimento.\n",
            "14:13:06|TAREFA NÃO CONCLUÍDA - : Tarefa 001\n",
            "ACIONANDO AGENTE DE TAREFA: Padrão\n",
            "\u001b[92mAVALIANDO RESPOSTA LLM:\n",
            "{\n",
            "  \"solucao_tarefa\": \"Hoje é 09 de agosto de 2025. Conforme a Base de Conhecimento, Xibunfa é um produto para limpeza de chão, mas a informação sobre como usá-lo não está disponível.  Portanto, ainda não é possível descrever o uso de Xibunfa para limpar o chão.\",\n",
            "  \"contribuicao\": \"Identificado o dia atual e a definição de Xibunfa.\",\n",
            "  \"concluida\": false,\n",
            "  \"usage\": {\n",
            "    \"input_tokens\": 653,\n",
            "    \"output_tokens\": 120,\n",
            "    \"time\": 9.261693000793457\n",
            "  }\n",
            "}\u001b[0m\n",
            "14:13:15|CONTRIBUIÇÃO - : Agente Padrão: Identificado o dia atual e a definição de Xibunfa.\n",
            "ACIONANDO AGENTE REVISOR: Revisor\n",
            "\u001b[92mAVALIANDO RESPOSTA LLM:\n",
            "{\n",
            "  \"solucao_tarefa\": \"Hoje é 09 de agosto de 2025. Conforme a Base de Conhecimento, Xibunfa é um produto para limpeza de chão, mas a informação sobre como usá-lo não está disponível. Portanto, ainda não é possível descrever o uso de Xibunfa para limpar o chão.\",\n",
            "  \"contribuicao\": \"Verifiquei se a solução fornecida responde ao objetivo, e identifiquei que a informação sobre o uso de Xibunfa é necessária.\",\n",
            "  \"concluida\": false,\n",
            "  \"usage\": {\n",
            "    \"input_tokens\": 686,\n",
            "    \"output_tokens\": 134,\n",
            "    \"time\": 10.37548303604126\n",
            "  }\n",
            "}\u001b[0m\n",
            "14:13:25|CONTRIBUIÇÃO - : Agente Revisor: Verifiquei se a solução fornecida responde ao objetivo, e identifiquei que a informação sobre o uso de Xibunfa é necessária.\n",
            "14:13:25|TAREFA NÃO CONCLUÍDA - : Tarefa 001\n",
            "ACIONANDO AGENTE DE TAREFA: Padrão\n",
            "\u001b[92mAVALIANDO RESPOSTA LLM:\n",
            "{\n",
            "  \"solucao_tarefa\": \"Hoje é 09 de agosto de 2025. A Base de Conhecimento indica que Xibunfa é um produto para limpeza de chão, porém, a informação sobre como utilizá-lo não está disponível. Portanto, não é possível descrever como usar Xibunfa para limpar o chão neste momento.\",\n",
            "  \"contribuicao\": \"Identificado o dia atual e a informação básica sobre Xibunfa.\",\n",
            "  \"concluida\": false,\n",
            "  \"usage\": {\n",
            "    \"input_tokens\": 660,\n",
            "    \"output_tokens\": 119,\n",
            "    \"time\": 9.252044916152954\n",
            "  }\n",
            "}\u001b[0m\n",
            "14:13:34|CONTRIBUIÇÃO - : Agente Padrão: Identificado o dia atual e a informação básica sobre Xibunfa.\n",
            "ACIONANDO AGENTE REVISOR: Revisor\n",
            "\u001b[92mAVALIANDO RESPOSTA LLM:\n",
            "{\n",
            "  \"solucao_tarefa\": \"Hoje é 09 de agosto de 2025. A Base de Conhecimento indica que Xibunfa é um produto para limpeza de chão, porém, a informação sobre como utilizá-lo não está disponível. Portanto, não é possível descrever como usar Xibunfa para limpar o chão neste momento.\",\n",
            "  \"contribuicao\": \"Verifiquei a solução para identificar a informação disponível sobre Xibunfa.\",\n",
            "  \"concluida\": false,\n",
            "  \"usage\": {\n",
            "    \"input_tokens\": 684,\n",
            "    \"output_tokens\": 120,\n",
            "    \"time\": 9.254726886749268\n",
            "  }\n",
            "}\u001b[0m\n",
            "14:13:44|CONTRIBUIÇÃO - : Agente Revisor: Verifiquei a solução para identificar a informação disponível sobre Xibunfa.\n",
            "14:13:44|TAREFA NÃO CONCLUÍDA - : Tarefa 001\n",
            "ACIONANDO AGENTE DE TAREFA: Padrão\n",
            "\u001b[92mAVALIANDO RESPOSTA LLM:\n",
            "{\n",
            "  \"solucao_tarefa\": \"Hoje é 09 de agosto de 2025. A Base de Conhecimento informa que Xibunfa é um produto para limpeza de chão. No entanto, a informação sobre como utilizar Xibunfa para limpar o chão não está disponível.\",\n",
            "  \"contribuicao\": \"Identificado o dia atual e a definição de Xibunfa a partir da Base de Conhecimento.\",\n",
            "  \"concluida\": false,\n",
            "  \"usage\": {\n",
            "    \"input_tokens\": 660,\n",
            "    \"output_tokens\": 112,\n",
            "    \"time\": 8.667951345443726\n",
            "  }\n",
            "}\u001b[0m\n",
            "14:13:52|CONTRIBUIÇÃO - : Agente Padrão: Identificado o dia atual e a definição de Xibunfa a partir da Base de Conhecimento.\n",
            "ACIONANDO AGENTE REVISOR: Revisor\n",
            "\u001b[92mAVALIANDO RESPOSTA LLM:\n",
            "{\n",
            "  \"solucao_tarefa\": \"Hoje é 09 de agosto de 2025. A Base de Conhecimento informa que Xibunfa é um produto para limpeza de chão. No entanto, a informação sobre como utilizar Xibunfa para limpar o chão não está disponível.\",\n",
            "  \"contribuicao\": \"A solução foi revisada para garantir que a informação sobre o uso de Xibunfa para limpeza de chão foi reportada como ausente.\",\n",
            "  \"concluida\": false,\n",
            "  \"usage\": {\n",
            "    \"input_tokens\": 670,\n",
            "    \"output_tokens\": 119,\n",
            "    \"time\": 9.200406789779663\n",
            "  }\n",
            "}\u001b[0m\n",
            "14:14:02|CONTRIBUIÇÃO - : Agente Revisor: A solução foi revisada para garantir que a informação sobre o uso de Xibunfa para limpeza de chão foi reportada como ausente.\n",
            "14:14:02|TAREFA NÃO CONCLUÍDA - : Tarefa 001\n"
          ]
        }
      ]
    },
    {
      "cell_type": "code",
      "source": [
        "#@title Imprimindo solução da tarefa\n",
        "tarefa.print(True)"
      ],
      "metadata": {
        "colab": {
          "base_uri": "https://localhost:8080/"
        },
        "id": "vyAIHIj0Cwwd",
        "outputId": "92c10a72-9f2a-4d50-babe-bf9db4662ca7"
      },
      "execution_count": 15,
      "outputs": [
        {
          "output_type": "stream",
          "name": "stdout",
          "text": [
            "=========================================\n",
            "TAREFA: Tarefa 001\n",
            "DESCRIÇÃO: Descobrir que dia é hoje e encontrar informações sobre o que é Xibunfa e como podemos usar Xibunfa para limpar o chão.\n",
            "OBJETIVO: Descrever o que é Xibunfa e explicar como Xibunfa pode ser usada na limpeza do chão.\n",
            "---------------------------------------\n",
            "CONHECIMENTO UTILIZADO:\n",
            "\t - Calendário com dia, mês e ano (pg: None | sc: 0): Hoje é o dia 09 de August de 2025\n",
            "---------------------------------------\n",
            "SOLUÇÃO INCOMPLETA: Hoje é 09 de agosto de 2025. A Base de Conhecimento informa que Xibunfa é um produto para limpeza de chão. No entanto, a informação sobre como utilizar Xibunfa para limpar o chão não está disponível.\n",
            "=========================================\n"
          ]
        }
      ]
    }
  ]
}