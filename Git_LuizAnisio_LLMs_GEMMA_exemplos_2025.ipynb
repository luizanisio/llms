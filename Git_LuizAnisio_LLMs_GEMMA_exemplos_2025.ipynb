{
  "nbformat": 4,
  "nbformat_minor": 0,
  "metadata": {
    "colab": {
      "provenance": [],
      "gpuType": "T4"
    },
    "kernelspec": {
      "name": "python3",
      "display_name": "Python 3"
    },
    "language_info": {
      "name": "python"
    },
    "accelerator": "GPU"
  },
  "cells": [
    {
      "cell_type": "markdown",
      "source": [
        "# Configurando e testando prompts"
      ],
      "metadata": {
        "id": "6xUrsF_WCJzd"
      }
    },
    {
      "cell_type": "code",
      "execution_count": 1,
      "metadata": {
        "colab": {
          "base_uri": "https://localhost:8080/"
        },
        "id": "N9y1bWXvCAkO",
        "outputId": "83506b91-c366-4cb4-8f6d-2712cbe499b0"
      },
      "outputs": [
        {
          "output_type": "stream",
          "name": "stdout",
          "text": [
            "✅ Instalação já realizada nesse ambiente _o/\n",
            "[OK] Dependências de análise instaladas _o/\n",
            "✅ Instalação já realizada nesse ambiente _o/\n",
            "[OK] Dependências de treinamento instaladas _o/\n",
            "[OK] Util carregado de /content/src (cache)\n",
            "Util carregado corretamente em 2025-08-03 17:51:46!\n",
            "🦥 Unsloth: Will patch your computer to enable 2x faster free finetuning.\n",
            "🦥 Unsloth Zoo will now patch everything to make training faster!\n",
            "[OK] Prompt carregado de /content/src (cache)\n",
            "============================================\n",
            "Transformers: 4.53.3 2025.7.1\n",
            "Tourch: 2.7.0+cu126\n",
            "============================================\n",
            "[OK] UtilAgentes carregado de /content/src (git)\n",
            "UtilAgentes carregado corretamente em 2025-08-03 17:52:11!\n"
          ]
        }
      ],
      "source": [
        "#@title Instalar dependências e carregar pacotes do git\n",
        "# carregando o get_git para importar utilitários do github\n",
        "import os\n",
        "if not os.path.isfile('./get_git.py'):\n",
        "   !curl https://raw.githubusercontent.com/luizanisio/llms/refs/heads/main/util/get_git.py -o ./get_git.py\n",
        "import get_git\n",
        "get_git.deps() # instala unsloth, Transformers, Rouge e Levenshtein se precisar\n",
        "Util = get_git.sync_git_util()\n",
        "Util.dados_python()\n",
        "Prompt = get_git.sync_git_prompt()\n",
        "UtilAgentes = get_git.sync_git_agentes()"
      ]
    },
    {
      "cell_type": "code",
      "source": [
        "#@title Escolhe e carrega o modelo\n",
        "pg3 = Prompt(modelo=4, max_seq_length=4096)"
      ],
      "metadata": {
        "id": "MzABGstiCO_3"
      },
      "execution_count": null,
      "outputs": []
    },
    {
      "cell_type": "code",
      "source": [
        "#@title Pergunta ao modelo\n",
        "res = pg3.prompt('Complete os próximos dois números da sequência e explique de forma objetiva em uma frase: 1, 1, 2, 3, 5, 8 ...')\n",
        "print('RESPOSTA:', res)"
      ],
      "metadata": {
        "colab": {
          "base_uri": "https://localhost:8080/"
        },
        "id": "gTlkmLtRCRt1",
        "outputId": "fb5e3d32-55f4-42e5-d1b3-42404a40baab"
      },
      "execution_count": 3,
      "outputs": [
        {
          "output_type": "stream",
          "name": "stdout",
          "text": [
            "RESPOSTA: Os próximos dois números da sequência são 13 e 21.\n",
            "\n",
            "Em uma frase objetiva: A sequência representa a sequência de Fibonacci, onde cada número é a soma dos dois números anteriores.\n"
          ]
        }
      ]
    },
    {
      "cell_type": "code",
      "source": [
        "#@title Resposta em json do modelo\n",
        "import json\n",
        "pergunta = '''Retorne um json válido com a estrutrua {\"mensagem\": com a mensagem do usuário, \"itens\": com uma lista de itens quando ele enumerar algo }\n",
        "              Mensagem do usuário: Eu preciso comprar abacaxi, pera e 2L de leite.'''\n",
        "r = pg3.prompt_to_json(pergunta)\n",
        "print(json.dumps(r, indent=2, ensure_ascii=False))"
      ],
      "metadata": {
        "colab": {
          "base_uri": "https://localhost:8080/"
        },
        "id": "xoBosJFuCX6R",
        "outputId": "bf74c1c5-c95f-4f9e-ebbd-8f5e91916455"
      },
      "execution_count": 4,
      "outputs": [
        {
          "output_type": "stream",
          "name": "stdout",
          "text": [
            "{\n",
            "  \"mensagem\": \"Eu preciso comprar abacaxi, pera e 2L de leite.\",\n",
            "  \"itens\": [\n",
            "    \"abacaxi\",\n",
            "    \"pera\",\n",
            "    \"2L de leite\"\n",
            "  ],\n",
            "  \"usage\": {\n",
            "    \"input_tokens\": 64,\n",
            "    \"output_tokens\": 50,\n",
            "    \"time\": 4.438987970352173\n",
            "  }\n",
            "}\n"
          ]
        }
      ]
    },
    {
      "cell_type": "markdown",
      "source": [
        "# Configurando agentes"
      ],
      "metadata": {
        "id": "2iZ0oUmVCcAC"
      }
    },
    {
      "cell_type": "code",
      "source": [
        "#@title Tarefa básica de exemplo\n",
        "servicos = UtilAgentes.AgentesToolsBasicos.get_servicos_basicos()\n",
        "\n",
        "tarefa = UtilAgentes.Tarefa(nome='Tarefa 001',\n",
        "                descricao='Descobrir que dia é hoje e encontrar informações sobre o que é Xibunfa e como podemos usar Xibunfa para limpar o chão.',\n",
        "                objetivo='Descrever o que é Xibunfa e explicar como Xibunfa pode ser usada na limpeza do chão.',\n",
        "                servicos_disponiveis=servicos,\n",
        "                call_llm = pg3.prompt_to_json)\n",
        "\n",
        "rt = UtilAgentes.ResolverTarefas([tarefa])\n",
        "rt.resolver()"
      ],
      "metadata": {
        "colab": {
          "base_uri": "https://localhost:8080/"
        },
        "id": "Otu2jl6mCmPx",
        "outputId": "9274aaaa-976b-4885-c181-fa67de3022ed"
      },
      "execution_count": 6,
      "outputs": [
        {
          "output_type": "stream",
          "name": "stdout",
          "text": [
            "17:55:53|RESOLVENDO TAREFA - : Tarefa 001 com 2 serviços disponíveis\n",
            "17:55:53|DESCOBERTA - : Descobrindo serviços para a tarefa Tarefa 001\n",
            "17:56:05|DESCOBERTA CONCLUÍDA - : Serviços descobertos para a tarefa Tarefa 001: 2\n",
            "17:56:05|SERVIÇO SUGERIDO - : Busca - Para descobrir o que é Xibunfa e como ele pode ser usado na limpeza do chão.\n",
            "17:56:05|SERVIÇO SUGERIDO - : DataHora - Para determinar o dia atual, necessário para responder à primeira parte da tarefa.\n",
            "17:56:05|ACIONANDO SERVIÇOS - : Busca,DataHora\n",
            "17:56:05|PREPARANDO SERVIÇO - : Busca: {\"palavras\": [\"Xibunfa\", \"limpeza do chão\"]}\n",
            "17:56:05|SERVIÇO ACIONADO - : Busca: {\"palavras\": [\"Xibunfa\", \"limpeza do chão\"]}\n",
            "17:56:05|PREPARANDO SERVIÇO - : DataHora: {}\n",
            "17:56:05|SERVIÇO ACIONADO - : DataHora: {}\n",
            "17:56:05|CONHECIMENTO - : Calendário com dia, mês e ano | pg. None | score 0\n",
            "ACIONANDO AGENTE DE TAREFA: Padrão\n",
            "\u001b[92mAVALIANDO RESPOSTA LLM:\n",
            "{\n",
            "  \"solucao_tarefa\": \"Hoje é 03 de Agosto de 2025. De acordo com a Base de Conhecimento, Xibunfa é um produto que pode ser usado para limpar o chão.\",\n",
            "  \"contribuicao\": \"Identifiquei a data atual e forneci informações sobre Xibunfa.\",\n",
            "  \"concluida\": false,\n",
            "  \"usage\": {\n",
            "    \"input_tokens\": 591,\n",
            "    \"output_tokens\": 92,\n",
            "    \"time\": 7.804494857788086\n",
            "  }\n",
            "}\u001b[0m\n",
            "17:56:13|CONTRIBUIÇÃO - : Agente Padrão: Identifiquei a data atual e forneci informações sobre Xibunfa.\n",
            "ACIONANDO AGENTE REVISOR: Revisor\n",
            "\u001b[92mAVALIANDO RESPOSTA LLM:\n",
            "{\n",
            "  \"solucao_tarefa\": \"Hoje é 03 de Agosto de 2025. De acordo com a Base de Conhecimento, Xibunfa é um produto que pode ser usado para limpar o chão.\",\n",
            "  \"contribuicao\": \"A solução descreve o dia atual e fornece informações sobre o que é Xibunfa, conforme a Base de Conhecimento.\",\n",
            "  \"concluida\": true,\n",
            "  \"usage\": {\n",
            "    \"input_tokens\": 656,\n",
            "    \"output_tokens\": 103,\n",
            "    \"time\": 8.797319412231445\n",
            "  }\n",
            "}\u001b[0m\n",
            "17:56:21|CONTRIBUIÇÃO - : Agente Revisor: A solução descreve o dia atual e fornece informações sobre o que é Xibunfa, conforme a Base de Conhecimento.\n",
            "17:56:21|TAREFA REVISADA - : Agente Revisor\n",
            "17:56:21|TAREFA CONCLUÍDA - : Tarefa 001\n"
          ]
        }
      ]
    },
    {
      "cell_type": "code",
      "source": [
        "#@title Imprimindo solução da tarefa\n",
        "tarefa.print(True)"
      ],
      "metadata": {
        "colab": {
          "base_uri": "https://localhost:8080/"
        },
        "id": "vyAIHIj0Cwwd",
        "outputId": "b692f5b7-e794-440a-c5b3-61c1907655e2"
      },
      "execution_count": 7,
      "outputs": [
        {
          "output_type": "stream",
          "name": "stdout",
          "text": [
            "=========================================\n",
            "TAREFA: Tarefa 001\n",
            "DESCRIÇÃO: Descobrir que dia é hoje e encontrar informações sobre o que é Xibunfa e como podemos usar Xibunfa para limpar o chão.\n",
            "OBJETIVO: Descrever o que é Xibunfa e explicar como Xibunfa pode ser usada na limpeza do chão.\n",
            "---------------------------------------\n",
            "CONHECIMENTO UTILIZADO:\n",
            "\t - Calendário com dia, mês e ano (pg: None | sc: 0): Hoje é o dia 03 de August de 2025\n",
            "---------------------------------------\n",
            "SOLUÇÃO COMPLETA: Hoje é 03 de Agosto de 2025. De acordo com a Base de Conhecimento, Xibunfa é um produto que pode ser usado para limpar o chão.\n",
            "=========================================\n"
          ]
        }
      ]
    }
  ]
}